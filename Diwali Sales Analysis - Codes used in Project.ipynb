{
 "cells": [
  {
   "cell_type": "markdown",
   "metadata": {},
   "source": [
    "# List of codes used in Project - Diwali Sales Analysis"
   ]
  },
  {
   "cell_type": "markdown",
   "metadata": {},
   "source": [
    "### Data Cleaning"
   ]
  },
  {
   "cell_type": "code",
   "execution_count": null,
   "metadata": {},
   "outputs": [],
   "source": [
    "df = pd.read_csv('Sarwar Ayaan Ali - Diwali Sales Data.csv', encoding= 'unicode_escape')        # Importing csv file\n",
    "\n",
    "df.shape                                                       # Count of rows and columns\n",
    "\n",
    "df.head(10)                                                    # df.head - Raw format data ; df.head() - Tabular format data ; df.head(10) - 10 rows\n",
    "\n",
    "df.info()                                                      # Details of rows and column with Null count and Data Type\n",
    "\n",
    "df.drop(['Status', 'unnamed1'], axis=1, inplace=True)          # Dropped non-related/nulls. axis=1 (Removes entire row) ; inplace=True (Permanent Change)\n",
    "\n",
    "pd.isnull(df)                                                  # Null value present in each column\n",
    "\n",
    "pd.isnull(df).sum()                                            # Count of nulls in each column\n",
    "\n",
    "df.dropna(inplace=True)                                        # dropped rows containing null values\n",
    "\n",
    "pd.isnull(df).sum()                                            # I have dropped all the nulls from all columns\n",
    "\n",
    "df['Amount'] = df['Amount'].astype('int')                      # Changes data type from float to int\n",
    "\n",
    "df['Amount'].dtypes                                            # Data type has been changes successfully\n",
    "\n",
    "df.columns                                                     # To check all columns names\n",
    "\n",
    "df.rename(columns= {'Marital_Status':'Marital_Status'},  inplace=True)                         # Renaming a column, if needed\n",
    "\n",
    "df.columns                                                     # We can see the name has been changed\n",
    "\n",
    "df.describe()                                                  # Description of the data in the DataFrame (i.e. count, mean, std, min, 25%, 50%, 75%, max)\n",
    "\n",
    "df[['Age', 'Orders', 'Amount']].describe()                     # Used describe() for specific columns"
   ]
  },
  {
   "cell_type": "markdown",
   "metadata": {},
   "source": [
    "# Exploratory Data Analysis"
   ]
  },
  {
   "cell_type": "markdown",
   "metadata": {},
   "source": [
    "### Gender"
   ]
  },
  {
   "cell_type": "code",
   "execution_count": null,
   "metadata": {},
   "outputs": [],
   "source": [
    "# Bar Chart - Count of Gender\n",
    "\n",
    "axis = sns.countplot(x = 'Gender', data = df)          # Seaborn countplot for the Count\n",
    "\n",
    "for bars in axis.containers:                           # Bar Label using for loop\n",
    "    axis.bar_label(bars)\n",
    "    \n",
    "# -------------------------------------------------------------------------------------------------------------\n",
    "# Bar Chart - Gender VS Total amount\n",
    "\n",
    "gender_amount = df.groupby(['Gender'], as_index=False)['Amount'].sum().sort_values(by='Amount', ascending=False)       # Group and sort data\n",
    "\n",
    "gender_amount['Amount'] = gender_amount['Amount'] / 1000000                # Convert values to millions\n",
    "\n",
    "axis = sns.barplot(x = 'Gender', y = 'Amount', data = gender_amount, hue = 'Amount')       # Bar chart\n",
    "\n",
    "for bars in axis.containers:                                               # Bar Label using for loop\n",
    "    axis.bar_label(bars, fmt='%1.1fM')\n",
    "\n",
    "# -------------------------------------------------------------------------------------------------------------\n",
    "# *From above graphs we can see that most of the buyers are females and even the purchasing power of females are greater than men*"
   ]
  },
  {
   "cell_type": "markdown",
   "metadata": {},
   "source": [
    "### Age"
   ]
  },
  {
   "cell_type": "code",
   "execution_count": null,
   "metadata": {},
   "outputs": [],
   "source": [
    "# Count of Age group.\n",
    "\n",
    "age_gender = sns.countplot(data = df.sort_values(by='Age Group', ascending=True), x = 'Age Group', hue = 'Gender')      # Group and sort data. Hue to categorize\n",
    "\n",
    "for bars in age_gender.containers:                                                           # Bar Label using for loop\n",
    "    age_gender.bar_label(bars)\n",
    "\n",
    "# -------------------------------------------------------------------------------------------------------------\n",
    "# Bar Chart - Age group VS Amount\n",
    "\n",
    "age_amount = df.groupby(['Age Group'], as_index=False)['Amount'].sum().sort_values(by='Age Group', ascending=True)      # Group and sort data\n",
    "\n",
    "age_amount['Amount'] = age_amount['Amount'] / 1000000                                        # Convert values to millions\n",
    "\n",
    "axis = sns.barplot(x = 'Age Group', y= 'Amount', data = age_amount, hue = 'Amount')          # Bar chart\n",
    "\n",
    "for bars in axis.containers:                                                                 # Bar Label using for loop\n",
    "    axis.bar_label(bars, fmt='%1.1fM')\n",
    "\n",
    "# -------------------------------------------------------------------------------------------------------------\n",
    "# *From above graphs we can see that most of the buyers are of age group between 26-35 yrs female*"
   ]
  },
  {
   "cell_type": "markdown",
   "metadata": {},
   "source": [
    "### State"
   ]
  },
  {
   "cell_type": "code",
   "execution_count": null,
   "metadata": {},
   "outputs": [],
   "source": [
    "# Bar Chart - State VS Orders\n",
    "\n",
    "state_orders = df.groupby(['State'], as_index=False)['Orders'].sum().sort_values(by='Orders', ascending=False).head(10)         # Group and sort data\n",
    "\n",
    "axis = sns.barplot(data = state_orders, x = 'State',y= 'Orders', hue = 'Orders')           # Bar chart\n",
    "\n",
    "for bars in axis.containers:                                                               # Bar Label using for loop\n",
    "    axis.bar_label(bars)\n",
    "\n",
    "# -------------------------------------------------------------------------------------------------------------\n",
    "# *From above graphs we can see that most of the orders & total sales/amount are from Uttar Pradesh, Maharashtra and Karnataka respectively*"
   ]
  },
  {
   "cell_type": "markdown",
   "metadata": {},
   "source": [
    "### Marital Status"
   ]
  },
  {
   "cell_type": "code",
   "execution_count": null,
   "metadata": {},
   "outputs": [],
   "source": [
    "# Bar Chart - Count of Marital_Status. 0 = Married ; 1 = Unmarried\n",
    "\n",
    "axis = sns.countplot(data = df, x = 'Marital_Status')                           # Bar chart\n",
    "\n",
    "for bars in axis.containers:                                                    # Bar Label using for loop\n",
    "    axis.bar_label(bars)\n",
    "\n",
    "# -------------------------------------------------------------------------------------------------------------\n",
    "# Bar Chart - Marital_Status VS Amount as per Gender\n",
    "\n",
    "marital_amount_per_gender = df.groupby(['Marital_Status', 'Gender'], as_index=False)['Amount'].sum().sort_values(by='Amount', ascending=False)         # Group and sort data.\n",
    "\n",
    "marital_amount_per_gender['Amount'] = marital_amount_per_gender['Amount'] / 1000000                          # Convert values to millions\n",
    "\n",
    "axis = sns.barplot(data = marital_amount_per_gender, x = 'Marital_Status',y= 'Amount', hue='Gender')         # Bar chart\n",
    "\n",
    "for bars in axis.containers:                                                                                 # Bar Label using for loop\n",
    "    axis.bar_label(bars, fmt='%1.1fM')\n",
    "\n",
    "# -------------------------------------------------------------------------------------------------------------\n",
    "# *From above graphs we can see that most of the buyers are married (women) and they have high purchasing power*"
   ]
  },
  {
   "cell_type": "markdown",
   "metadata": {},
   "source": [
    "### Occuptaion"
   ]
  },
  {
   "cell_type": "code",
   "execution_count": null,
   "metadata": {},
   "outputs": [],
   "source": [
    "# Bar Chart - Count of Occupation\n",
    "\n",
    "axis = sns.countplot(data = df, x = 'Occupation')                                   # Bar chart\n",
    "\n",
    "for bars in axis.containers:                                                        # Bar Label using for loop\n",
    "    axis.bar_label(bars)\n",
    "\n",
    "# -------------------------------------------------------------------------------------------------------------\n",
    "# Bar Chart - Occupation VS Amount\n",
    "\n",
    "occupation_amount = df.groupby(['Occupation'], as_index=False)['Amount'].sum().sort_values(by='Amount', ascending=False)        # Group and sort data\n",
    "\n",
    "occupation_amount['Amount'] = occupation_amount['Amount'] / 1000000                         # Convert values to millions\n",
    "\n",
    "axis = sns.barplot(data = sales_state, x = 'Occupation',y= 'Amount',  hue='Amount')         # Bar chart\n",
    "\n",
    "for bars in axis.containers:                                                                # Bar Label using for loop\n",
    "    axis.bar_label(bars, fmt='%1.1fM')\n",
    "\n",
    "# -------------------------------------------------------------------------------------------------------------\n",
    "# *From above graphs we can see that most of the buyers are working in IT, Healthcare and Aviation sector*"
   ]
  },
  {
   "cell_type": "markdown",
   "metadata": {},
   "source": [
    "### Product Category"
   ]
  },
  {
   "cell_type": "code",
   "execution_count": null,
   "metadata": {},
   "outputs": [],
   "source": [
    "# Bar Chart - Product_Category\n",
    "\n",
    "axis = sns.countplot(data = df, x = 'Product_Category')                                # Bar chart\n",
    "\n",
    "for bars in axis.containers:                                                           # Bar Label using for loop\n",
    "    axis.bar_label(bars)\n",
    "\n",
    "# -------------------------------------------------------------------------------------------------------------\n",
    "# Bar Chart - Product_Category VS Amount\n",
    "\n",
    "category_amount = df.groupby(['Product_Category'], as_index=False)['Amount'].sum().sort_values(by='Amount', ascending=False).head(10)         # Group and sort data\n",
    "\n",
    "category_amount['Amount'] = category_amount['Amount'] / 1000000                                        # Convert values to millions\n",
    "\n",
    "axis = sns.barplot(data = category_amount, x = 'Product_Category',y= 'Amount',  hue='Amount')          # Bar chart\n",
    "\n",
    "for bars in axis.containers:                                                                           # Bar Label using for loop\n",
    "    axis.bar_label(bars, fmt='%1.1fM')\n",
    "\n",
    "# -------------------------------------------------------------------------------------------------------------\n",
    "# *From above graphs we can see that most of the sold products are from Food, Clothing and Electronics category*"
   ]
  },
  {
   "cell_type": "markdown",
   "metadata": {},
   "source": [
    "### Product ID"
   ]
  },
  {
   "cell_type": "code",
   "execution_count": null,
   "metadata": {},
   "outputs": [],
   "source": [
    "# Bar Chart - Product_ID VS Orders\n",
    "\n",
    "id_orders = df.groupby(['Product_ID'], as_index=False)['Orders'].sum().sort_values(by='Orders', ascending=False).head(10)         # Group and sort data\n",
    "\n",
    "axis = sns.barplot(data = id_orders, x = 'Product_ID',y= 'Orders',  hue='Orders')            # Bar chart\n",
    "\n",
    "for bars in axis.containers:                                                                 # Bar Label using for loop\n",
    "    axis.bar_label(bars)\n",
    "\n",
    "# -------------------------------------------------------------------------------------------------------------\n",
    "# *From above graphs we can see that most of the orders are for the Product ID P00265242*"
   ]
  },
  {
   "cell_type": "markdown",
   "metadata": {},
   "source": [
    "### Conclusion"
   ]
  },
  {
   "cell_type": "markdown",
   "metadata": {},
   "source": [
    "*Married women age group 26-35 yrs from UP,  Maharastra and Karnataka working in IT, Healthcare and Aviation are more likely to buy products from Food, Clothing and Electronics category*"
   ]
  },
  {
   "cell_type": "markdown",
   "metadata": {},
   "source": [
    "### Project Learnings"
   ]
  },
  {
   "cell_type": "markdown",
   "metadata": {},
   "source": [
    "*Performed Data Cleaning and Manipulation*</br>\n",
    "*Performed Exploratory Data Analysis (EDA) using Pandas, matplotlib and seaborn libraries*</br>\n",
    "*Improved customer experience by identifying potential customers across different states, occupation, gender and age groups*</br>\n",
    "*Improved sales by identifying most selling product categories and products, which can help to plan inventory and hence meet the demands*"
   ]
  }
 ],
 "metadata": {
  "language_info": {
   "name": "python"
  }
 },
 "nbformat": 4,
 "nbformat_minor": 2
}
